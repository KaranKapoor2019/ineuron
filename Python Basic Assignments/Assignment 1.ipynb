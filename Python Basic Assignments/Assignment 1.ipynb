{
 "cells": [
  {
   "cell_type": "code",
   "execution_count": 1,
   "metadata": {},
   "outputs": [],
   "source": [
    "################################################################################################################\n",
    "# 1. In the below elements which of them are values or an expression? eg:- values can be integer or string and #\n",
    "#    expressions will be mathematical operators.                                                               #\n",
    "################################################################################################################\n",
    "\n",
    "\n",
    "############################################################\n",
    "#  *                Expression ( Mathematical operator)    # \n",
    "#  'hello'          String                                 #\n",
    "#  -87.8            float                                  # \n",
    "#  -                Expression ( Mathematical operator)    #\n",
    "#  /                Expression ( Mathematical operator)    #\n",
    "#  +                Expression ( Mathematical operator)    #\n",
    "#  6                Integer                                #\n",
    "############################################################"
   ]
  },
  {
   "cell_type": "code",
   "execution_count": 2,
   "metadata": {},
   "outputs": [],
   "source": [
    "###################################################################################\n",
    "#2. What is the difference between string and variable?                           #\n",
    "###################################################################################\n",
    "\n",
    "###########################################################################################\n",
    "# A variable is basically the name of the location in the primary memory of your computer.#\n",
    "# This can be chosen by you. A variable can store everything from strings to numbers.     #\n",
    "# A string is the values inside the quotes assigned to a string                           #\n",
    "###########################################################################################"
   ]
  },
  {
   "cell_type": "code",
   "execution_count": 3,
   "metadata": {},
   "outputs": [],
   "source": [
    "###########################################################################################\n",
    "#3. Describe three different data types.                                                  #\n",
    "###########################################################################################\n",
    "\n",
    "###############################################################################################\n",
    "# String (or str or text). Used for a combination of any characters that appear on a keyboard,# \n",
    "# such as letters, numbers and symbols.                                                       #\n",
    "# Character (or char). Used for single letters.                                               #\n",
    "# Integer (or int). Used for whole numbers.                                                   #\n",
    "###############################################################################################"
   ]
  },
  {
   "cell_type": "code",
   "execution_count": 4,
   "metadata": {},
   "outputs": [],
   "source": [
    "###############################################################################################\n",
    "# 4. What is an expression made up of? What do all expressions do?                            #\n",
    "###############################################################################################\n",
    "\n",
    "###############################################################################################\n",
    "#An expression is a combination of operators and operands that is interpreted to produce some #\n",
    "#other value. In any programming language, an expression is evaluated as per                  #\n",
    "#the precedence of its operators.                                                             #\n",
    "# Types of Expression                                                                         #\n",
    "# 1. Constant Expression                                                                      #\n",
    "# 2. Arithmetic Expression                                                                    #\n",
    "# 3. Integral Expression                                                                      #\n",
    "# 4. Floating Expression                                                                      #\n",
    "# 5. Relational Expression                                                                    #\n",
    "# 6. Logical Expression                                                                       #\n",
    "# 7. Bitwise Expression                                                                       #\n",
    "# 8. Combinational Expression                                                                 #\n",
    "# More details with examples https://www.geeksforgeeks.org/expressions-in-python/             #\n",
    "###############################################################################################"
   ]
  },
  {
   "cell_type": "code",
   "execution_count": 5,
   "metadata": {},
   "outputs": [],
   "source": [
    "###############################################################################################\n",
    "# 5. This assignment statements, like spam = 10. What is the difference between an expression #\n",
    "# and a statement?                                                                            #\n",
    "###############################################################################################\n",
    "\n",
    "###############################################################################################\n",
    "# Statements represent an action or command e.g print statements, assignment statements.      #\n",
    "# Expression is a combination of variables, operations and values that yields a result value. #\n",
    "# An expression is something that can be reduced to a value, for example \"1+3\" is an          #\n",
    "# expression, but \"foo = 1+3\" is not                                                          #\n",
    "###############################################################################################"
   ]
  },
  {
   "cell_type": "code",
   "execution_count": 6,
   "metadata": {},
   "outputs": [
    {
     "data": {
      "text/plain": [
       "22"
      ]
     },
     "execution_count": 6,
     "metadata": {},
     "output_type": "execute_result"
    }
   ],
   "source": [
    "###############################################################################################\n",
    "# 6. After running the following code, what does the variable bacon contain?                  #\n",
    "# bacon = 22                                                                                  #\n",
    "# bacon + 1                                                                                   #\n",
    "###############################################################################################\n",
    "bacon = 22\n",
    "bacon + 1 \n",
    "bacon\n",
    "###############################################################################################\n",
    "# variable bacon = 22                                                                         #\n",
    "###############################################################################################"
   ]
  },
  {
   "cell_type": "code",
   "execution_count": 7,
   "metadata": {},
   "outputs": [
    {
     "name": "stdout",
     "output_type": "stream",
     "text": [
      "Value of a is spamspamspam\n",
      "Value of b is spamspamspam\n"
     ]
    }
   ],
   "source": [
    "##############################################################################################\n",
    "# 7. What should the values of the following two terms be?                                   #\n",
    "# 'spam' + 'spamspam'                                                                        #                                                   \n",
    "# 'spam' * 3                                                                                 #\n",
    "##############################################################################################\n",
    "\n",
    "##############################################################################################\n",
    "a = 'spam' + 'spamspam'\n",
    "b = 'spam' * 3\n",
    "print (\"Value of a is \"+a)\n",
    "print (\"Value of b is \"+b)\n",
    "##############################################################################################\n"
   ]
  },
  {
   "cell_type": "code",
   "execution_count": 8,
   "metadata": {},
   "outputs": [],
   "source": [
    "##############################################################################################\n",
    "# 8. Why is eggs a valid variable name while 100 is invalid?                                 #\n",
    "##############################################################################################\n",
    "\n",
    "##############################################################################################\n",
    "# Python allows you to name variables to your liking, as long as the names follow these rules# \n",
    "# Variable names may contain letters, digits (0-9) or the underscore character _ . Variable  #\n",
    "# names must begin with a letter from A-Z or the underscore _ character. Either lowercase or #\n",
    "# uppercase letters are acceptable.                                                          #\n",
    "##############################################################################################"
   ]
  },
  {
   "cell_type": "code",
   "execution_count": 9,
   "metadata": {},
   "outputs": [
    {
     "name": "stdout",
     "output_type": "stream",
     "text": [
      "enter the value of a\n",
      "1\n",
      "enter the value of b\n",
      "1.23\n",
      "enter the value of c\n",
      "karan\n",
      "value of a is 1\n",
      "value of a is 1.23\n",
      "value of a is karan\n"
     ]
    }
   ],
   "source": [
    "##############################################################################################\n",
    "# 9. What three functions can be used to get the integer, floating-point number, or string   # \n",
    "#  version of a value?                                                                       #\n",
    "##############################################################################################\n",
    "print (\"enter the value of a\")\n",
    "a= int(input())\n",
    "print (\"enter the value of b\")\n",
    "b= float(input())\n",
    "print (\"enter the value of c\")\n",
    "c= str(input())\n",
    "print ( \"value of a is\",+a)\n",
    "print ( \"value of a is\",+b)\n",
    "print ( \"value of a is \"+c)"
   ]
  },
  {
   "cell_type": "code",
   "execution_count": 10,
   "metadata": {},
   "outputs": [
    {
     "data": {
      "text/plain": [
       "'I have eaten 99 burritos.'"
      ]
     },
     "execution_count": 10,
     "metadata": {},
     "output_type": "execute_result"
    }
   ],
   "source": [
    "################################################################################\n",
    "# 10. Why does this expression cause an error? How can you fix it?             #\n",
    "# 'I have eaten ' + 99 + ' burritos.'                                          #\n",
    "################################################################################\n",
    "\n",
    "################################################################################\n",
    "#'I have eaten ' + 99 + ' burritos.'                                           #\n",
    "# Incorrect - TypeError: can only concatenate str (not \"int\") to str           #\n",
    "################################################################################\n",
    "\n",
    "\n",
    "################################################################################\n",
    "'I have eaten ' + '99' + ' burritos.' # correct                                #\n",
    "################################################################################\n"
   ]
  }
 ],
 "metadata": {
  "kernelspec": {
   "display_name": "Python 3",
   "language": "python",
   "name": "python3"
  },
  "language_info": {
   "codemirror_mode": {
    "name": "ipython",
    "version": 3
   },
   "file_extension": ".py",
   "mimetype": "text/x-python",
   "name": "python",
   "nbconvert_exporter": "python",
   "pygments_lexer": "ipython3",
   "version": "3.7.4"
  }
 },
 "nbformat": 4,
 "nbformat_minor": 2
}
