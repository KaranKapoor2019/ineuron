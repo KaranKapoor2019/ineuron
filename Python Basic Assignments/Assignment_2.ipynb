{
 "cells": [
  {
   "cell_type": "code",
   "execution_count": 1,
   "metadata": {},
   "outputs": [],
   "source": [
    "##################################################################################\n",
    "# 1.What are the two values of the Boolean data type? How do you write them?     #\n",
    "##################################################################################\n",
    "\n",
    "##################################################################################\n",
    "# True and False, using capital T and F, with the rest of the word in lowercase  #\n",
    "##################################################################################"
   ]
  },
  {
   "cell_type": "code",
   "execution_count": 2,
   "metadata": {},
   "outputs": [],
   "source": [
    "##################################################################################\n",
    "# 2. What are the three different types of Boolean operators?                    #\n",
    "##################################################################################\n",
    "\n",
    "##################################################################################\n",
    "# and, or, and not                                                               #\n",
    "##################################################################################"
   ]
  },
  {
   "cell_type": "code",
   "execution_count": 3,
   "metadata": {},
   "outputs": [],
   "source": [
    "##################################################################################\n",
    "# 3. Make a list of each Boolean operator's truth tables (i.e. every possible    #\n",
    "# combination of Boolean values for the operator and what it evaluate ).         #\n",
    "##################################################################################\n",
    "\n",
    "##################################################################################\n",
    "# True and True is True.                                                         #\n",
    "# True and False is False.                                                       #\n",
    "# False and True is False.                                                       #\n",
    "# False and False is False.                                                      #\n",
    "# True or True is True.                                                          #\n",
    "# True or False is True.                                                         #\n",
    "# False or True is True.                                                         #\n",
    "# False or False is False.                                                       #\n",
    "# not True is False.                                                             #\n",
    "# not False is True.                                                             #\n",
    "##################################################################################"
   ]
  },
  {
   "cell_type": "code",
   "execution_count": 4,
   "metadata": {},
   "outputs": [
    {
     "name": "stdout",
     "output_type": "stream",
     "text": [
      "False\n",
      "False\n",
      "True\n",
      "False\n",
      "False\n",
      "True\n"
     ]
    }
   ],
   "source": [
    "###################################################################################\n",
    "#4. What are the values of the following expressions?                             #\n",
    "#(5 > 4) and (3 == 5)                                                             #\n",
    "#not (5 > 4)                                                                      #\n",
    "#(5 > 4) or (3 == 5)                                                              #\n",
    "#not ((5 > 4) or (3 == 5))                                                        #\n",
    "#(True and True) and (True == False)                                              #\n",
    "#(not False) or (not True)                                                        #\n",
    "###################################################################################\n",
    "print((5 > 4) and (3 == 5))\n",
    "print(not (5 > 4))\n",
    "print((5 > 4) or (3 == 5))\n",
    "print(not ((5 > 4) or (3 == 5)))\n",
    "print((True and True) and (True == False))\n",
    "print((not False) or (not True))\n",
    "###################################################################################\n",
    "# 4. What are the values of the following expressions?                            #\n",
    "#    (5 > 4) and (3 == 5)                  False                                  #\n",
    "#    not (5 > 4)                           False                                  #\n",
    "#   (5 > 4) or (3 == 5)                    True                                   #\n",
    "#   not ((5 > 4) or (3 == 5))              False                                  #\n",
    "#   (True and True) and (True == False)    False                                  #\n",
    "#   (not False) or (not True)              True                                   #\n",
    "###################################################################################\n"
   ]
  },
  {
   "cell_type": "code",
   "execution_count": 5,
   "metadata": {},
   "outputs": [],
   "source": [
    "###################################################\n",
    "# 5. What are the six comparison operators?       #\n",
    "###################################################\n",
    "\n",
    "###################################################\n",
    "#     ==        Equal  to                         # \n",
    "#     !=        Not Equal to                      #\n",
    "#     <         Less than                         #\n",
    "#     >         More than                         #\n",
    "#     <=        Less than equal to                #\n",
    "#     >=        More than equal to                #\n",
    "###################################################"
   ]
  },
  {
   "cell_type": "code",
   "execution_count": 6,
   "metadata": {},
   "outputs": [
    {
     "name": "stdout",
     "output_type": "stream",
     "text": [
      "a is not equal to b\n"
     ]
    }
   ],
   "source": [
    "###########################################################################\n",
    "# 6. How do you tell the difference between the equal to and assignment   #\n",
    "# operators?Describe a condition and when you would use one.              #\n",
    "###########################################################################\n",
    "\n",
    "###########################################################################\n",
    "# The “=” is an assignment operator is used to assign the value on the    #\n",
    "# right to the variable on the left. The '==' operator checks whether     #\n",
    "# the two given operands are equal or not. If so, it returns true.        #\n",
    "# Otherwise it returns false.                                             #\n",
    "###########################################################################\n",
    "\n",
    "a = 10\n",
    "b = 4\n",
    "if (a==b):\n",
    "    print(\"a is equal to b\")\n",
    "else:\n",
    "    print(\"a is not equal to b\")"
   ]
  },
  {
   "cell_type": "code",
   "execution_count": 7,
   "metadata": {},
   "outputs": [
    {
     "name": "stdout",
     "output_type": "stream",
     "text": [
      "ham\n",
      "spam\n",
      "spam\n"
     ]
    }
   ],
   "source": [
    "###########################################################################\n",
    "#      7. Identify the three blocks in this code:                         #\n",
    "#      spam = 0                                                           #\n",
    "#      if spam == 10:                                                     #\n",
    "#      print('eggs')                                                      #\n",
    "#      if spam > 5:                                                       #\n",
    "#      print('bacon')                                                     #\n",
    "#      else:                                                              #\n",
    "#      print('ham')                                                       #\n",
    "#      print('spam')                                                      #\n",
    "#      print('spam')                                                      #\n",
    "###########################################################################\n",
    "\n",
    "spam = 0\n",
    "if spam == 10:\n",
    "    print('eggs')\n",
    "if spam > 5:\n",
    "    print('bacon')\n",
    "else:\n",
    "    print('ham')\n",
    "    print('spam')\n",
    "    print('spam')"
   ]
  },
  {
   "cell_type": "code",
   "execution_count": 8,
   "metadata": {},
   "outputs": [
    {
     "name": "stdout",
     "output_type": "stream",
     "text": [
      "Greetings!\n"
     ]
    }
   ],
   "source": [
    "###########################################################################\n",
    "# 8. Write code that prints Hello if 1 is stored in spam, prints Howdy    #\n",
    "# if 2 is stored in spam, and prints Greetings! if anything else is stored#\n",
    "# in spam.                                                                #\n",
    "###########################################################################\n",
    "\n",
    "###########################################################################\n",
    "if spam == 1:\n",
    "    print('Hello')\n",
    "elif spam == 2:\n",
    "    print('Howdy')\n",
    "else:\n",
    "    print('Greetings!')\n",
    "###########################################################################"
   ]
  },
  {
   "cell_type": "code",
   "execution_count": 9,
   "metadata": {},
   "outputs": [],
   "source": [
    "###########################################################################\n",
    "# 9.If your programme is stuck in an endless loop, what keys you’ll press?#\n",
    "###########################################################################\n",
    "\n",
    "###########################################################################\n",
    "# Press Escape and 0(zero) twice                                          #\n",
    "###########################################################################"
   ]
  },
  {
   "cell_type": "code",
   "execution_count": 10,
   "metadata": {},
   "outputs": [],
   "source": [
    "###########################################################################\n",
    "# 10. How can you tell the difference between break and continue?         #\n",
    "###########################################################################\n",
    "\n",
    "###########################################################################\n",
    "# The break statement will move the execution outside and just after a    #\n",
    "# loop. The continue statement will move the execution to the start of    #\n",
    "# the loop.                                                               #\n",
    "###########################################################################\n"
   ]
  },
  {
   "cell_type": "markdown",
   "metadata": {},
   "source": [
    "\n"
   ]
  },
  {
   "cell_type": "code",
   "execution_count": 11,
   "metadata": {},
   "outputs": [],
   "source": [
    "##########################################################################\n",
    "# 11. In a for loop, what is the difference between range(10),           #\n",
    "# range(0, 10), and range(0, 10, 1)?                                     #\n",
    "##########################################################################\n",
    "\n",
    "##########################################################################\n",
    "# They all do the same thing. The range(10) call ranges from 0 up to     #\n",
    "# (but not including) 10, range(0, 10) explicitly tells the loop to start# \n",
    "# at 0, and range(0, 10, 1) explicitly tells the loop to increase the    #\n",
    "# variable by 1 on each iteration.                                       #\n",
    "##########################################################################"
   ]
  },
  {
   "cell_type": "code",
   "execution_count": 12,
   "metadata": {},
   "outputs": [
    {
     "name": "stdout",
     "output_type": "stream",
     "text": [
      "1\n",
      "2\n",
      "3\n",
      "4\n",
      "5\n",
      "6\n",
      "7\n",
      "8\n",
      "9\n",
      "10\n",
      "1\n",
      "2\n",
      "3\n",
      "4\n",
      "5\n",
      "6\n",
      "7\n",
      "8\n",
      "9\n",
      "10\n"
     ]
    }
   ],
   "source": [
    "##########################################################################\n",
    "# 12. Write a short program that prints the numbers 1 to 10 using a for  #\n",
    "# loop. Then write an equivalent program that prints the numbers 1 to 10 # \n",
    "# using a while loop.                                                    #\n",
    "##########################################################################\n",
    "for i in range(1, 11):\n",
    "    print(i)\n",
    "\n",
    "i = 1\n",
    "while i <= 10:\n",
    "    print(i)\n",
    "    i = i + 1\n",
    "    "
   ]
  },
  {
   "cell_type": "code",
   "execution_count": 13,
   "metadata": {},
   "outputs": [],
   "source": [
    "######################################################################\n",
    "# 13. If you had a function named bacon() inside a module named spam,# \n",
    "# how would you call it after importing spam?                        #\n",
    "######################################################################\n",
    "\n",
    "######################################################################\n",
    "# spam.bacon()                                                       #\n",
    "######################################################################"
   ]
  }
 ],
 "metadata": {
  "kernelspec": {
   "display_name": "Python 3",
   "language": "python",
   "name": "python3"
  },
  "language_info": {
   "codemirror_mode": {
    "name": "ipython",
    "version": 3
   },
   "file_extension": ".py",
   "mimetype": "text/x-python",
   "name": "python",
   "nbconvert_exporter": "python",
   "pygments_lexer": "ipython3",
   "version": "3.7.4"
  }
 },
 "nbformat": 4,
 "nbformat_minor": 2
}
