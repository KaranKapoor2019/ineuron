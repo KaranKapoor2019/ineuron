{
 "cells": [
  {
   "cell_type": "code",
   "execution_count": 1,
   "metadata": {},
   "outputs": [],
   "source": [
    "########################################################################\n",
    "# 1. Why are functions advantageous to have in your programs?          #\n",
    "########################################################################\n",
    "\n",
    "########################################################################\n",
    "# Functions reduce the need for duplicate code. This makes programs    #\n",
    "# shorter, easier to read, and easier to update.                       #\n",
    "########################################################################"
   ]
  },
  {
   "cell_type": "code",
   "execution_count": 2,
   "metadata": {},
   "outputs": [],
   "source": [
    "#######################################################################\n",
    "# 2. When does the code in a function run: when it's specified or     #\n",
    "# when it's called?                                                   #\n",
    "#######################################################################\n",
    "\n",
    "#######################################################################\n",
    "# The code in a function executes when the function is called,        #\n",
    "# not when the function is defined.                                   #\n",
    "#######################################################################"
   ]
  },
  {
   "cell_type": "code",
   "execution_count": 3,
   "metadata": {},
   "outputs": [],
   "source": [
    "#######################################################################\n",
    "# 3. What statement creates a function?                               #\n",
    "#######################################################################\n",
    "\n",
    "#######################################################################\n",
    "#The def statement defines (that is, creates) a function.             #\n",
    "#######################################################################"
   ]
  },
  {
   "cell_type": "code",
   "execution_count": 4,
   "metadata": {},
   "outputs": [],
   "source": [
    "#######################################################################\n",
    "# 4. What is the difference between a function and a function call?   #\n",
    "#######################################################################\n",
    "\n",
    "#######################################################################\n",
    "# A function consists of the def statement and the code in its def    #\n",
    "# clause. A function call is what moves the program execution into    #\n",
    "# the function, and the function call evaluates to the function’s     #\n",
    "# return value.                                                       #\n",
    "#######################################################################\n"
   ]
  },
  {
   "cell_type": "code",
   "execution_count": 5,
   "metadata": {},
   "outputs": [],
   "source": [
    "#######################################################################\n",
    "# 5. How many global scopes are there in a Python program?            #\n",
    "# How many local scopes?                                              #\n",
    "#######################################################################\n",
    "\n",
    "#######################################################################\n",
    "# There is one global scope, and a local scope is created whenever    # \n",
    "# a function is called.                                               #\n",
    "#######################################################################"
   ]
  },
  {
   "cell_type": "code",
   "execution_count": 6,
   "metadata": {},
   "outputs": [],
   "source": [
    "#######################################################################\n",
    "# 6. What happens to variables in a local scope when the function     #\n",
    "# call returns?                                                       #\n",
    "#######################################################################\n",
    "\n",
    "#######################################################################\n",
    "# When a function returns, the local scope is destroyed, and all the  #\n",
    "# variables in it are forgotten.                                      #\n",
    "#######################################################################"
   ]
  },
  {
   "cell_type": "code",
   "execution_count": 7,
   "metadata": {},
   "outputs": [],
   "source": [
    "#######################################################################\n",
    "# 7. What is the concept of a return value? Is it possible to have a  #\n",
    "# return value in an expression?                                      #\n",
    "#######################################################################\n",
    "\n",
    "#######################################################################\n",
    "# A return value is the value that a function call evaluates to.      #\n",
    "# Like any value, a return value can be used as part of an expression.#\n",
    "#######################################################################"
   ]
  },
  {
   "cell_type": "code",
   "execution_count": 8,
   "metadata": {},
   "outputs": [],
   "source": [
    "#######################################################################\n",
    "# 8. If a function does not have a return statement, what is the      # \n",
    "# return value of a call to that function?                            #\n",
    "#######################################################################\n",
    "\n",
    "#######################################################################\n",
    "# If there is no return statement for a function, its return value    #\n",
    "# is None.                                                            #\n",
    "#######################################################################"
   ]
  },
  {
   "cell_type": "code",
   "execution_count": 9,
   "metadata": {},
   "outputs": [],
   "source": [
    "#######################################################################\n",
    "# 9. How do you make a function variable refer to the global variable?#\n",
    "#######################################################################\n",
    "\n",
    "#######################################################################\n",
    "# A global statement will force a variable in a function to refer to  #\n",
    "# the global variable.                                                #\n",
    "#######################################################################"
   ]
  },
  {
   "cell_type": "code",
   "execution_count": 10,
   "metadata": {},
   "outputs": [
    {
     "data": {
      "text/plain": [
       "NoneType"
      ]
     },
     "execution_count": 10,
     "metadata": {},
     "output_type": "execute_result"
    }
   ],
   "source": [
    "#######################################################################\n",
    "# 10. What is the data type of None?                                  #\n",
    "#######################################################################\n",
    "\n",
    "#######################################################################\n",
    "# The data type of None is NoneType                                   #\n",
    "#######################################################################\n",
    "type(None)"
   ]
  },
  {
   "cell_type": "code",
   "execution_count": 11,
   "metadata": {},
   "outputs": [],
   "source": [
    "#######################################################################\n",
    "# 11. What does the sentence import areallyourpetsnamederic do?       #\n",
    "#######################################################################\n",
    "\n",
    "#######################################################################\n",
    "# That import statement imports a module named areallyourpetsnamederic#\n",
    "# . (This isn’t a real Python module, by the way.)                    #\n",
    "# ModuleNotFoundError: No module named 'areallyourpetsnamederic'      #\n",
    "#######################################################################"
   ]
  },
  {
   "cell_type": "code",
   "execution_count": 12,
   "metadata": {},
   "outputs": [],
   "source": [
    "#######################################################################\n",
    "# 12. If you had a bacon() feature in a spam module, what would you   #\n",
    "# call it after importing spam?                                       #\n",
    "#######################################################################\n",
    "\n",
    "#######################################################################\n",
    "# This function can be called with spam.bacon()                       #\n",
    "#######################################################################"
   ]
  },
  {
   "cell_type": "code",
   "execution_count": 13,
   "metadata": {},
   "outputs": [],
   "source": [
    "####################################################################################\n",
    "# 13. What can you do to save a programme from crashing if it encounters an error? #\n",
    "####################################################################################\n",
    "\n",
    "############################################################################\n",
    "# Place the line of code that might cause an error in a try clause.        #\n",
    "############################################################################"
   ]
  },
  {
   "cell_type": "code",
   "execution_count": 14,
   "metadata": {},
   "outputs": [],
   "source": [
    "########################################################################################\n",
    "# 14. What is the purpose of the try clause? What is the purpose of the except clause? #\n",
    "########################################################################################\n",
    "\n",
    "########################################################################################\n",
    "# The code that could potentially cause an error goes in the try clause.               #\n",
    "# The code that executes if an error happens goes in the except clause.                #\n",
    "########################################################################################"
   ]
  }
 ],
 "metadata": {
  "kernelspec": {
   "display_name": "Python 3",
   "language": "python",
   "name": "python3"
  },
  "language_info": {
   "codemirror_mode": {
    "name": "ipython",
    "version": 3
   },
   "file_extension": ".py",
   "mimetype": "text/x-python",
   "name": "python",
   "nbconvert_exporter": "python",
   "pygments_lexer": "ipython3",
   "version": "3.7.4"
  }
 },
 "nbformat": 4,
 "nbformat_minor": 2
}
